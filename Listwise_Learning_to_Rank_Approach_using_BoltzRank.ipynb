{
  "nbformat": 4,
  "nbformat_minor": 0,
  "metadata": {
    "colab": {
      "name": "Listwise Learning to Rank Approach using BoltzRank.ipynb",
      "provenance": []
    },
    "kernelspec": {
      "name": "python3",
      "display_name": "Python 3"
    },
    "language_info": {
      "name": "python"
    }
  },
  "cells": [
    {
      "cell_type": "code",
      "metadata": {
        "id": "VbokUxrYW6JU"
      },
      "source": [
        "%load_ext autoreload\n",
        "%autoreload 2\n",
        "%matplotlib inline\n",
        "\n",
        "%load_ext cython\n",
        "\n",
        "import os\n",
        "import os.path\n",
        "import numpy as np\n",
        "import lightgbm\n",
        "import matplotlib.pyplot as plt\n",
        "\n",
        "# see http://scikit-learn.org/stable/modules/generated/sklearn.datasets.load_svmlight_file.html\n",
        "from sklearn.datasets import load_svmlight_file \n"
      ],
      "execution_count": 2,
      "outputs": []
    },
    {
      "cell_type": "markdown",
      "metadata": {
        "id": "RyRYejGKXKU6"
      },
      "source": [
        "## **CONVERT AND LOAD DATA**"
      ]
    },
    {
      "cell_type": "code",
      "metadata": {
        "colab": {
          "base_uri": "https://localhost:8080/"
        },
        "id": "rdpjLQR_W86u",
        "outputId": "b5b1a6cb-4252-46c1-b51a-b71ebf7bd066"
      },
      "source": [
        "from google.colab import drive\n",
        "drive.mount('/content/drive/')"
      ],
      "execution_count": 3,
      "outputs": [
        {
          "output_type": "stream",
          "text": [
            "Mounted at /content/drive/\n"
          ],
          "name": "stdout"
        }
      ]
    },
    {
      "cell_type": "code",
      "metadata": {
        "id": "MIzPOzkvXFhw"
      },
      "source": [
        "DATASET_FOLDER = (\"/content/drive/MyDrive/PROYEK STBI/folder1\")\n",
        "PERM_FOLDER = DATASET_FOLDER + \"perms/\"\n",
        "METRIC_NAME = 'ndcg@10'"
      ],
      "execution_count": 9,
      "outputs": []
    },
    {
      "cell_type": "code",
      "metadata": {
        "id": "d8I_CzcVZ7Eg"
      },
      "source": [
        "def ensureFile(path):\n",
        "    if not os.path.exists(path) or not os.path.isfile(path):\n",
        "        raise FileNotFoundError(\"'\" + path + \"': no such file\")        \n",
        "    return path\n",
        "\n",
        "def retrieveFileNames():\n",
        "    folder = DATASET_FOLDER + '/' if DATASET_FOLDER[-1:] != '/' else DATASET_FOLDER\n",
        "    train_file = ensureFile(folder + \"train.txt\")\n",
        "    valid_file = ensureFile(folder + \"vali.txt\")\n",
        "    test_file = ensureFile(folder + \"test.txt\")\n",
        "    return train_file, valid_file, test_file\n",
        "\n",
        "def loadDataset(path):\n",
        "    return load_svmlight_file(path, query_id=True)\n",
        "\n",
        "def loadLightGBM(svmlight_dataset):\n",
        "    query_lens = [sum(1 for _ in group) for key, group in itertools.groupby(svmlight_dataset[2])]\n",
        "    return lightgbm.Dataset(data=svmlight_dataset[0], label=svmlight_dataset[1], group=query_lens)"
      ],
      "execution_count": 5,
      "outputs": []
    },
    {
      "cell_type": "code",
      "metadata": {
        "id": "NpIO4mekaCdC"
      },
      "source": [
        "class Query:\n",
        "    def __init__(self, qid):\n",
        "        self.qid = qid\n",
        "        self.labels_to_docs = {}\n",
        "    def addlabel(self, label):\n",
        "        if not label in self.labels_to_docs:\n",
        "            self.labels_to_docs[label] = list()\n",
        "    def adddoc(self, label, doc):\n",
        "        self.labels_to_docs[label].append(doc)\n",
        "    def finalize(self, alllabels):\n",
        "        self.labels = np.zeros(len(self.labels_to_docs.keys()), dtype=int)\n",
        "        self.docs = np.empty(len(self.labels_to_docs.keys()), dtype=object)\n",
        "        i = 0\n",
        "        totaldocs = 0\n",
        "        sorteddict = sorted(self.labels_to_docs.items(), reverse = True)\n",
        "        for label, docs in sorteddict:\n",
        "            self.labels[i] = label\n",
        "            self.docs[i] = np.zeros(len(docs), dtype=int)\n",
        "            for j in range(len(docs)):\n",
        "                self.docs[i][j] = docs[j]\n",
        "            i += 1\n",
        "            totaldocs += len(docs)\n",
        "        self.alldocs = np.concatenate(self.docs)\n",
        "        self.flatlabels = np.zeros(totaldocs, dtype=np.double)\n",
        "        i = 0\n",
        "        for label, docs in sorteddict:\n",
        "            for j in range(len(docs)):\n",
        "                self.flatlabels[i] = label\n",
        "                i += 1       \n",
        "        k = min(10, len(self.alldocs))\n",
        "        self.idealdcg = dcg_k(self.alldocs, alllabels, k) \n",
        "        del self.labels_to_docs\n",
        "    def setperms(self, perms):\n",
        "        self.perms = perms\n",
        "    def setndcgs(self, ndcgs):\n",
        "        self.ndcgs = ndcgs\n",
        "    def __repr__(self):  \n",
        "        return str(self)\n",
        "    def __str__(self):\n",
        "        res = \"Query \" + str(self.qid) + \"[\"\n",
        "        res += \"\\nideal dcg: \" + str(self.idealdcg)\n",
        "        for i in range(len(self.labels)):\n",
        "            res += \"\\n\" + str(self.labels[i]) + \" -> \" + str(self.docs[i])\n",
        "        res += \"]\"\n",
        "        if hasattr(self, 'perms'):\n",
        "            for i in range(len(self.perms)):\n",
        "                res += \"\\n[\" + str(self.perms[i]) + \"] -> dcg: \" + str(self.ndcgs[i])\n",
        "        else:\n",
        "            res += \"\\nNo permutations computed yet\"\n",
        "        return res"
      ],
      "execution_count": 6,
      "outputs": []
    },
    {
      "cell_type": "code",
      "metadata": {
        "id": "40T4A25FaFdk"
      },
      "source": [
        "def mapQueryToDocuments(dataset):\n",
        "    queries = {}\n",
        "    alllabels = np.negative(np.ones(len(dataset[2]), dtype=np.double))\n",
        "    for i in range(0, len(dataset[2])):\n",
        "        if not dataset[2][i] in queries:\n",
        "            queries[dataset[2][i]] = Query(dataset[2][i])\n",
        "        query = queries[dataset[2][i]]\n",
        "        query.addlabel(dataset[1][i])\n",
        "        query.adddoc(dataset[1][i], i)\n",
        "        alllabels[i] = dataset[1][i]\n",
        "        \n",
        "    for q in queries.values():\n",
        "        q.finalize(alllabels)\n",
        "    \n",
        "    return queries, alllabels"
      ],
      "execution_count": 8,
      "outputs": []
    },
    {
      "cell_type": "code",
      "metadata": {
        "id": "4RxjCc1PaI8A"
      },
      "source": [
        ""
      ],
      "execution_count": null,
      "outputs": []
    }
  ]
}